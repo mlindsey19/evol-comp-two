{
  "nbformat": 4,
  "nbformat_minor": 0,
  "metadata": {
    "colab": {
      "name": "EvolComp2.ipynb",
      "version": "0.3.2",
      "provenance": [],
      "collapsed_sections": [],
      "include_colab_link": true
    },
    "kernelspec": {
      "name": "python3",
      "display_name": "Python 3"
    },
    "accelerator": "GPU"
  },
  "cells": [
    {
      "cell_type": "markdown",
      "metadata": {
        "id": "view-in-github",
        "colab_type": "text"
      },
      "source": [
        "<a href=\"https://colab.research.google.com/github/mlindsey19/evol-comp-two/blob/master/EvolComp2.ipynb\" target=\"_parent\"><img src=\"https://colab.research.google.com/assets/colab-badge.svg\" alt=\"Open In Colab\"/></a>"
      ]
    },
    {
      "metadata": {
        "id": "pvDwRqLi4oIw",
        "colab_type": "code",
        "colab": {}
      },
      "cell_type": "code",
      "source": [
        "import random\n",
        "import numpy as np\n",
        "\n",
        "N = 10 # must be even for crossover\n",
        "RUNS = 30\n",
        "LOCI = 3\n",
        "LCBD = (-1.0, 5.0) #loci bounds\n",
        "#print format -> #.###\n",
        "float_formatter = lambda x: \"%.8f\" % x\n",
        "np.set_printoptions( formatter = { 'float_kind' : float_formatter } )\n",
        "\n",
        "gen = np.random.uniform( LCBD[ 0 ], LCBD[ 1 ], ( N, LOCI ) )\n"
      ],
      "execution_count": 0,
      "outputs": []
    },
    {
      "metadata": {
        "id": "f8hqaPmc9mdF",
        "colab_type": "code",
        "colab": {}
      },
      "cell_type": "code",
      "source": [
        "pen = 2\n",
        "penFlag = 1\n",
        "\n",
        "def fitness( individual ):\n",
        "  fit = 0\n",
        "  for x in individual:\n",
        "    fit +=  pen * x**2 if ( penFlag and ( x > 5.0 or x < -1.0 ) ) else x**2\n",
        "  return fit\n",
        "\n",
        "def fitVector(g, n):\n",
        "  fit = np.empty(n)\n",
        "  for i in range(n):\n",
        "    fit[ i ] = fitness( g[ i ] )\n",
        "  return fit\n",
        "\n",
        "\n",
        "def sortFit( g, n = N ):\n",
        "  temp = np.c_[ g, fitVector( g, n ) ]\n",
        "  return temp[ temp[ : , 3 ].argsort() ]\n"
      ],
      "execution_count": 0,
      "outputs": []
    },
    {
      "metadata": {
        "id": "WcNtqaWS9qd3",
        "colab_type": "code",
        "colab": {}
      },
      "cell_type": "code",
      "source": [
        "Pc = 0.8\n",
        "alpha = 0.7\n",
        "shuffFlag = 0\n",
        "\n",
        "def crossover(  ):\n",
        "  if ( shuffFlag ):\n",
        "    np.random.shuffle( gen )\n",
        "  for i in range( N // 2 ):\n",
        "    if ( np.random.uniform( 0, 1 ) < Pc ):\n",
        "      j = 2 * i\n",
        "      gen[ j ][ 0 ], gen[ j + 1 ][ 0 ] = gen[ j + 1 ][ 0 ],  gen[ j ][ 0 ]\n",
        "#  return gen\n",
        "\n",
        "def arithmeticCrossover(  ):\n",
        "  if ( shuffFlag ):\n",
        "    np.random.shuffle( gen )\n",
        "  for i in range( N // 2 ):\n",
        "    if ( np.random.uniform( 0, 1 ) < Pc ):\n",
        "      j = 2 * i\n",
        "      x = gen[ j + 1 ][ 0 ] + gen[ j ][ 0 ]\n",
        "      gen[ j ][ 0 ], gen[ j + 1 ][ 0 ] = ( 1 - alpha ) * x, alpha * x\n",
        "  #    return gen\n",
        "\n",
        "def arithmeticCrossPerLoci(  ):\n",
        "  if ( shuffFlag ):\n",
        "    np.random.shuffle( gen )\n",
        "  for i in range( N // 2 ):\n",
        "    for h in range( 3 ):        \n",
        "      j = 2 * i\n",
        "      if ( np.random.uniform( 0, 1 ) < Pc ):\n",
        "        x = gen[ j + 1 ][ h ] + gen[ j ][ h ]\n",
        "        gen[ j ][ h ], gen[ j + 1 ][ h ] = ( 1 - alpha ) * x, alpha * x\n",
        " # return gen\n",
        "    \n",
        "  \n",
        " "
      ],
      "execution_count": 0,
      "outputs": []
    },
    {
      "metadata": {
        "id": "uhsWLjfn13mV",
        "colab_type": "text"
      },
      "cell_type": "markdown",
      "source": [
        "***mr*** mutation range\n",
        "***ub*** upper bound\n",
        "\n",
        "The upper bound is calculated so that numbers selected at random fall in an appropriate \n",
        "range of mutation ***P*** % of the time "
      ]
    },
    {
      "metadata": {
        "id": "-_0SZccnw8Ts",
        "colab_type": "code",
        "colab": {}
      },
      "cell_type": "code",
      "source": [
        "Pm = 0.1\n",
        "mr = 0.75\n",
        "\n",
        "def mut():\n",
        "  mtmt = np.empty( ( N, LOCI) )\n",
        "  ub = ( 2 * mr / Pm ) - mr\n",
        "  for i in range ( N ):\n",
        "    for j in range(LOCI):\n",
        "      m = np.random.uniform( (0 - mr), ub )\n",
        "      if ( m < mr ):\n",
        "        mtmt[i][j] = m\n",
        "      else:\n",
        "        mtmt[i][j] = 0  \n",
        "  return mtmt\n",
        "\n",
        "def gausIndi():\n",
        "  mtmt = np.empty( ( N, LOCI) )\n",
        "\n",
        "  for i in range ( N ):\n",
        "    sd = np.std(gen[i])\n",
        "    for j in range(LOCI):\n",
        "      m = np.random.uniform( 0 , 1 )\n",
        "      if ( m < Pm ):\n",
        "        mtmt[i][j] = np.random.normal(0, sd)\n",
        "      else:\n",
        "        mtmt[i][j] = 0   \n",
        "  return mtmt\n",
        "\n",
        "def gausPop():\n",
        "  sd = np.std(gen)\n",
        "  mtmt = np.random.normal( 0.0, sd, ( N, LOCI) )\n",
        "\n",
        "  for i in range ( N ):\n",
        "    for j in range(LOCI):\n",
        "      m = np.random.uniform( 0 , 1 )\n",
        "      if ( m > Pm ):\n",
        "            mtmt[i][j] = 0  \n",
        "  return mtmt\n",
        "\n",
        "def mutation(  ):\n",
        "  global gen\n",
        "  gen = gen + mut()\n",
        "\n",
        "def gpmutation(  ):\n",
        "  global gen\n",
        "  gen = gen + gausPop()\n",
        "def gimutation(  ):\n",
        "  global gen\n",
        "  gen = gen + gausIndi()\n",
        "\n",
        "\n",
        "def mutationWithClamp(  ):\n",
        "  global gen\n",
        "  ngen = gen + mut()\n",
        "  for rw in range( N ):\n",
        "    for cl in range( LOCI ):  \n",
        "        ngen[rw][cl] = ngen[rw][cl] if ( ngen[rw][cl] > -1 ) else -1\n",
        "        ngen[rw][cl] = ngen[rw][cl] if ( ngen[rw][cl] < 5 ) else 5\n",
        "  gen = ngen\n",
        "\n",
        "  \n",
        "\n"
      ],
      "execution_count": 0,
      "outputs": []
    },
    {
      "metadata": {
        "id": "QulRcTbufK7N",
        "colab_type": "code",
        "colab": {
          "base_uri": "https://localhost:8080/",
          "height": 187
        },
        "outputId": "282bcde5-ea26-4897-d344-54d5d4b539ef"
      },
      "cell_type": "code",
      "source": [
        "Psbt = 0.4\n",
        "\n",
        "def selectionBT(  ):\n",
        "  global gen\n",
        "  ngen = np.empty( ( N, LOCI) )\n",
        "  for i in range(N):\n",
        "    x = gen[ random.randint( 0, N - 1 ) ]\n",
        "    y = gen[ random.randint( 0, N - 1 ) ]\n",
        "    #print( x , y)\n",
        "    if( fitness( x ) > fitness( y ) ):\n",
        "      x = y\n",
        "    ngen[ i ] = x\n",
        "  gen = ngen\n",
        "\n",
        "selectionBT()\n",
        "\n",
        "print( gen )"
      ],
      "execution_count": 13,
      "outputs": [
        {
          "output_type": "stream",
          "text": [
            "[[0.93940923 0.63069757 0.58412441]\n",
            " [0.93940923 0.63069757 0.58412441]\n",
            " [0.93940923 0.63069757 0.58412441]\n",
            " [0.93940923 0.63069757 0.58412441]\n",
            " [0.93940923 0.63069757 0.58412441]\n",
            " [0.93940923 0.63069757 0.58412441]\n",
            " [0.93940923 0.63069757 0.58412441]\n",
            " [0.93940923 0.63069757 0.58412441]\n",
            " [0.93940923 0.63069757 0.58412441]\n",
            " [0.93940923 0.63069757 0.58412441]]\n"
          ],
          "name": "stdout"
        }
      ]
    },
    {
      "metadata": {
        "id": "8ilghLZx-kVx",
        "colab_type": "code",
        "colab": {
          "base_uri": "https://localhost:8080/",
          "height": 357
        },
        "outputId": "33d7c241-4824-4c5e-8ff9-4b389f475fcb"
      },
      "cell_type": "code",
      "source": [
        "min = .5\n",
        "max = 2 - min\n",
        "Plr = lambda r:( min + ( r - 1 ) / ( N - 1 ) * ( max - min ) ) / N\n",
        "PlrMap = np.array( [ Plr(x) for x in range( 1, 11 ) ] ) \n",
        "pmap =np.empty(N)\n",
        "for i in range(N):\n",
        "  if (i == 0):\n",
        "    pmap[ i ] = PlrMap[ i ]\n",
        "  else:\n",
        "    pmap[ i ] = PlrMap[ i ] + pmap[ i - 1 ]\n",
        "\n",
        "\n",
        "def selectionLR(  ):\n",
        "  global gen\n",
        "  ngen = np.empty( (N, LOCI) )\n",
        "  temp = sortFit( gen )\n",
        "  for i in range( N ):\n",
        "    s = np.random.uniform( 0, 1 )\n",
        "    for idx,c in enumerate(pmap):\n",
        "      if( s <= c ):\n",
        "        #print(s, c , 9 - idx)\n",
        "        ngen[ i ] = temp[ 9-idx, : 3 ] \n",
        "        break\n",
        "  gen = ngen\n",
        "\n",
        "en = 2  # number of best fit guarantee propogate  \n",
        "\n",
        "def selectionEliteLR(  ):\n",
        "  global gen\n",
        "  ngen = np.empty( (N, LOCI) )\n",
        "  temp = sortFit( gen )\n",
        "  for i in range( en ):\n",
        "    ngen[ i ] = temp[ i, : 3]\n",
        "  for i in range( en, N ):\n",
        "    s = np.random.uniform( 0, 1 )\n",
        "    for idx,c in enumerate(pmap):\n",
        "      if( s <= c ):\n",
        "        #print(s, c , 9 - idx)\n",
        "        ngen[ i ] = temp[ 9-idx, : 3 ] \n",
        "        break\n",
        "  gen = ngen\n",
        "\n",
        "selectionLR()\n",
        "print(gen)\n",
        "selectionEliteLR()\n",
        "\n",
        "print( gen )"
      ],
      "execution_count": 12,
      "outputs": [
        {
          "output_type": "stream",
          "text": [
            "[[0.93940923 0.63069757 0.58412441]\n",
            " [0.93940923 0.63069757 0.58412441]\n",
            " [0.93940923 0.63069757 0.58412441]\n",
            " [0.93940923 0.63069757 0.58412441]\n",
            " [0.93940923 0.63069757 0.58412441]\n",
            " [0.93940923 0.63069757 0.58412441]\n",
            " [0.93940923 0.63069757 0.58412441]\n",
            " [0.93940923 0.63069757 0.58412441]\n",
            " [0.93940923 0.63069757 0.58412441]\n",
            " [0.93940923 0.63069757 0.58412441]]\n",
            "[[0.93940923 0.63069757 0.58412441]\n",
            " [0.93940923 0.63069757 0.58412441]\n",
            " [0.93940923 0.63069757 0.58412441]\n",
            " [0.93940923 0.63069757 0.58412441]\n",
            " [0.93940923 0.63069757 0.58412441]\n",
            " [0.93940923 0.63069757 0.58412441]\n",
            " [0.93940923 0.63069757 0.58412441]\n",
            " [0.93940923 0.63069757 0.58412441]\n",
            " [0.93940923 0.63069757 0.58412441]\n",
            " [0.93940923 0.63069757 0.58412441]]\n"
          ],
          "name": "stdout"
        }
      ]
    },
    {
      "metadata": {
        "id": "6BNbEtFUfnrU",
        "colab_type": "code",
        "colab": {
          "base_uri": "https://localhost:8080/",
          "height": 187
        },
        "outputId": "6fe8dab0-2693-4fa2-b6ba-18ffbd00aaa2"
      },
      "cell_type": "code",
      "source": [
        "tn = 8 # number to keep\n",
        "\n",
        "firstRunFlag = 1\n",
        "if ( firstRunFlag ):\n",
        "  firstRunFlag = 0\n",
        "  prevgen = np.random.uniform( LCBD[ 0 ], LCBD[ 1 ], ( N, LOCI ) )\n",
        "  \n",
        "def selectionTrunc(  ):\n",
        "  global gen\n",
        "  ngen = np.empty( ( N, LOCI ) )\n",
        "  temp = sortFit( gen )\n",
        "  for i in range( tn ):\n",
        "    ngen[ i ] = temp[ i, : 3 ]\n",
        "  for i in range ( tn, N ):\n",
        "    ngen [ i ] = np.random.uniform( LCBD[ 0 ], LCBD[ 1 ], ( 1, LOCI ) )\n",
        "  gen = ngen\n",
        "\n",
        "def selectionFibTrunc(  ):\n",
        "  global gen\n",
        "  ngen = np.empty( ( N, LOCI ) )\n",
        "  global prevgen\n",
        "  temp = gen\n",
        "  union = np.append(gen, prevgen, axis = 0)\n",
        "  union = sortFit(union, n=(2 * N) )\n",
        "  prevgen = temp\n",
        "  for i in range( tn ):\n",
        "    ngen[ i ] = union[ i, : 3 ]\n",
        "  for i in range ( tn, N ):\n",
        "    ngen [ i ] = np.random.uniform( LCBD[ 0 ], LCBD[ 1 ], ( 1, LOCI ) )\n",
        "  gen = ngen\n",
        "\n",
        "selectionFibTrunc()\n",
        "print(gen)\n"
      ],
      "execution_count": 15,
      "outputs": [
        {
          "output_type": "stream",
          "text": [
            "[[0.93940923 0.63069757 0.58412441]\n",
            " [0.93940923 0.63069757 0.58412441]\n",
            " [0.93940923 0.63069757 0.58412441]\n",
            " [0.93940923 0.63069757 0.58412441]\n",
            " [0.93940923 0.63069757 0.58412441]\n",
            " [0.93940923 0.63069757 0.58412441]\n",
            " [0.93940923 0.63069757 0.58412441]\n",
            " [0.93940923 0.63069757 0.58412441]\n",
            " [0.82278287 3.93605744 3.97061021]\n",
            " [2.34071517 1.07328978 3.25365569]]\n"
          ],
          "name": "stdout"
        }
      ]
    },
    {
      "metadata": {
        "id": "3EKJcutRKfuL",
        "colab_type": "code",
        "colab": {}
      },
      "cell_type": "code",
      "source": [
        "for i in range(50):\n",
        "  mutation()\n",
        "  mutationWithClamp()\n",
        "  arithmeticCrossPerLoci()\n",
        "  arithmeticCrossover()\n",
        "  arithmeticCrossPerLoci()\n",
        "  crossover()\n",
        "  selectionBT() \n",
        "  selectionTrunc() \n",
        "  selectionFibTrunc()\n",
        "  selectionLR()\n",
        "  selectionEliteLR()\n",
        "print (gen)\n",
        "\n"
      ],
      "execution_count": 0,
      "outputs": []
    },
    {
      "metadata": {
        "id": "xz_vGs2t2oTa",
        "colab_type": "code",
        "colab": {
          "base_uri": "https://localhost:8080/",
          "height": 578
        },
        "outputId": "aeb96bee-90ed-4250-e0c9-3896a2f73043"
      },
      "cell_type": "code",
      "source": [
        "\n",
        "\n",
        "mutList = [ gimutation, mutation, gpmutation]\n",
        "crossList = [ arithmeticCrossover, arithmeticCrossPerLoci, crossover ]\n",
        "selList = [ selectionBT, selectionTrunc, selectionFibTrunc, selectionLR, selectionEliteLR ]\n",
        "avg = np.empty((3,3,5))\n",
        "best = np.empty((3,3,5))\n",
        "stdv = np.empty((3,3,5))\n",
        "def evol():\n",
        "  global gen\n",
        "  global avg\n",
        "  global best \n",
        "  global stdv\n",
        "  bst = 0.0\n",
        "  avgVector = np.empty(30)\n",
        "  for c, cross in enumerate( crossList ):\n",
        "    for m, mut in enumerate( mutList ):\n",
        "      for s, sel in enumerate( selList ):\n",
        "          for i in range( 30 ):\n",
        "            gen = np.random.uniform( LCBD[ 0 ], LCBD[ 1 ], ( N, LOCI ) )\n",
        "            for _ in range( 50 ):\n",
        "              sel()\n",
        "              cross()\n",
        "              mut()\n",
        "            bst = np.amin(fitVector(gen, N))\n",
        "            avgVector[ i ] = np.mean(fitVector(gen, N))\n",
        "          best[c][m][s] = bst if (bst < best[c][m][s] ) else best[c][m][s]\n",
        "          avg[c][m][s] = np.mean(avgVector)\n",
        "          stdv[c][m][s] = np.std(avgVector)\n",
        "\n",
        "\n",
        "\n",
        "evol()\n",
        "\n",
        "print( avg )\n",
        "print( best )\n",
        "print( stdv )"
      ],
      "execution_count": 19,
      "outputs": [
        {
          "output_type": "stream",
          "text": [
            "[[[0.00370149 6.03961570 4.18287573 0.07324644 0.00054557]\n",
            "  [0.13208465 5.88046186 4.31291227 0.26353355 0.08903345]\n",
            "  [0.00313995 7.63579423 4.24961494 0.50201763 0.00100705]]\n",
            "\n",
            " [[0.00000000 4.07359997 5.02072068 0.00000957 0.00000000]\n",
            "  [0.07237357 5.51277470 4.20471691 0.10546637 0.08229169]\n",
            "  [0.00000000 4.99948197 4.97100329 0.00002161 0.00000000]]\n",
            "\n",
            " [[0.11811740 6.02574518 4.72045009 0.08545933 0.00134773]\n",
            "  [0.10924981 5.66187650 4.33625886 0.34761807 0.09804457]\n",
            "  [0.00444314 8.88115196 5.07310551 0.07014569 0.00082361]]]\n",
            "[[[0.00000484 0.00000000 0.00000000 0.00000000 0.00000000]\n",
            "  [0.00231570 0.08467657 0.00000394 0.00000000 0.00000000]\n",
            "  [0.00000017 0.00000000 0.00000080 0.00000000 0.00000000]]\n",
            "\n",
            " [[0.00000000 0.00086492 0.00000000 0.00000000 0.00000000]\n",
            "  [0.00040014 0.07668963 0.00000000 0.00000000 0.00000000]\n",
            "  [0.00000000 0.20336110 0.00000000 0.00000000 0.00000000]]\n",
            "\n",
            " [[0.00099163 0.05625354 0.00000000 0.00000000 0.00000000]\n",
            "  [0.00408374 0.33387187 0.00000000 0.00000000 0.00000000]\n",
            "  [0.00018011 1.91007708 0.00000000 0.00000000 0.00000000]]]\n",
            "[[[0.00920052 2.57687933 2.69462898 0.17522370 0.00116913]\n",
            "  [0.16548458 2.67426569 2.38593604 0.20954147 0.04989068]\n",
            "  [0.00820213 3.37942644 2.33026947 1.38650060 0.00337568]]\n",
            "\n",
            " [[0.00000000 2.35118894 3.12040913 0.00001633 0.00000000]\n",
            "  [0.04692757 3.45423782 2.72334295 0.06455690 0.05090704]\n",
            "  [0.00000000 2.76756468 3.66683158 0.00005814 0.00000000]]\n",
            "\n",
            " [[0.60815029 2.14478729 2.58504959 0.21473740 0.00659047]\n",
            "  [0.06665421 1.88396092 1.95425855 0.36605391 0.06200304]\n",
            "  [0.01380985 3.05688255 2.66383215 0.20970805 0.00197917]]]\n"
          ],
          "name": "stdout"
        }
      ]
    }
  ]
}
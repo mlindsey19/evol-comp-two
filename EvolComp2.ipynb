{
  "nbformat": 4,
  "nbformat_minor": 0,
  "metadata": {
    "colab": {
      "name": "EvolComp2.ipynb",
      "version": "0.3.2",
      "provenance": [],
      "collapsed_sections": [],
      "include_colab_link": true
    },
    "kernelspec": {
      "name": "python3",
      "display_name": "Python 3"
    },
    "accelerator": "GPU"
  },
  "cells": [
    {
      "cell_type": "markdown",
      "metadata": {
        "id": "view-in-github",
        "colab_type": "text"
      },
      "source": [
        "<a href=\"https://colab.research.google.com/github/mlindsey19/evol-comp-two/blob/master/EvolComp2.ipynb\" target=\"_parent\"><img src=\"https://colab.research.google.com/assets/colab-badge.svg\" alt=\"Open In Colab\"/></a>"
      ]
    },
    {
      "metadata": {
        "id": "pvDwRqLi4oIw",
        "colab_type": "code",
        "colab": {}
      },
      "cell_type": "code",
      "source": [
        "import random\n",
        "import numpy as np\n",
        "\n",
        "N = 10 # must be even for crossover\n",
        "RUNS = 30\n",
        "LOCI = 3\n",
        "LCBD = (-1.0, 5.0) #loci bounds\n",
        "#print format -> #.###\n",
        "float_formatter = lambda x: \"%.3f\" % x\n",
        "np.set_printoptions( formatter = { 'float_kind' : float_formatter } )\n"
      ],
      "execution_count": 0,
      "outputs": []
    },
    {
      "metadata": {
        "id": "yxVxw2T5lcR9",
        "colab_type": "code",
        "colab": {
          "base_uri": "https://localhost:8080/",
          "height": 102
        },
        "outputId": "cb405db0-aa5c-4dc6-c2b2-9a0de70059cc"
      },
      "cell_type": "code",
      "source": [
        "!git status"
      ],
      "execution_count": 51,
      "outputs": [
        {
          "output_type": "stream",
          "text": [
            "On branch master\n",
            "\n",
            "No commits yet\n",
            "\n",
            "nothing to commit (create/copy files and use \"git add\" to track)\n"
          ],
          "name": "stdout"
        }
      ]
    },
    {
      "metadata": {
        "id": "TWXASkcu9Uar",
        "colab_type": "code",
        "colab": {}
      },
      "cell_type": "code",
      "source": [
        "  gen = np.random.uniform( LCBD[ 0 ], LCBD[ 1 ], ( N, LOCI ) )\n",
        "  \n",
        "  print (gen)"
      ],
      "execution_count": 0,
      "outputs": []
    },
    {
      "metadata": {
        "id": "f8hqaPmc9mdF",
        "colab_type": "code",
        "colab": {}
      },
      "cell_type": "code",
      "source": [
        "pen = 2\n",
        "penFlag = 1\n",
        "\n",
        "def fitness( individual ):\n",
        "  fit = 0\n",
        "  for x in individual:\n",
        "    fit +=  pen * x**2 if ( ( x > 5.0 or x < -1.0 ) and penFlag ) else x**2\n",
        "  return fit\n",
        "\n",
        "def fitVector(g, n):\n",
        "  fit = np.empty(n)\n",
        "  for i in range(n):\n",
        "    fit[ i ] = fitness( g[ i ] )\n",
        "  return fit\n",
        "\n",
        "\n",
        "def sortFit( g, n = N ):\n",
        "  temp = np.c_[ g, fitVector( g, n ) ]\n",
        "  return temp[ temp[ : , 3 ].argsort() ]\n"
      ],
      "execution_count": 0,
      "outputs": []
    },
    {
      "metadata": {
        "id": "WcNtqaWS9qd3",
        "colab_type": "code",
        "colab": {}
      },
      "cell_type": "code",
      "source": [
        "Pc = 0.8\n",
        "alpha = 0.7\n",
        "shuffFlag = 1\n",
        "\n",
        "def crossover(  ):\n",
        "  if ( shuffFlag ):\n",
        "    np.random.shuffle( gen )\n",
        "  for i in range( N // 2 ):\n",
        "    if ( np.random.uniform( 0, 1 ) < Pc ):\n",
        "      j = 2 * i\n",
        "      gen[ j ][ 0 ], gen[ j + 1 ][ 0 ] = gen[ j + 1 ][ 0 ],  gen[ j ][ 0 ]\n",
        "#  return gen\n",
        "\n",
        "def arithmeticCrossover(  ):\n",
        "  if ( shuffFlag ):\n",
        "    np.random.shuffle( gen )\n",
        "  for i in range( N // 2 ):\n",
        "    if ( np.random.uniform( 0, 1 ) < Pc ):\n",
        "      j = 2 * i\n",
        "      x = gen[ j + 1 ][ 0 ] + gen[ j ][ 0 ]\n",
        "      gen[ j ][ 0 ], gen[ j + 1 ][ 0 ] = ( 1 - alpha ) * x, alpha * x\n",
        "  #    return gen\n",
        "\n",
        "def arithmeticCrossPerLoci(  ):\n",
        "  if ( shuffFlag ):\n",
        "    np.random.shuffle( gen )\n",
        "  for i in range( N // 2 ):\n",
        "    for h in range( 3 ):        \n",
        "      j = 2 * i\n",
        "      if ( np.random.uniform( 0, 1 ) < Pc ):\n",
        "        x = gen[ j + 1 ][ h ] + gen[ j ][ h ]\n",
        "        gen[ j ][ h ], gen[ j + 1 ][ h ] = ( 1 - alpha ) * x, alpha * x\n",
        " # return gen\n",
        "    \n",
        "  \n",
        " "
      ],
      "execution_count": 0,
      "outputs": []
    },
    {
      "metadata": {
        "id": "uhsWLjfn13mV",
        "colab_type": "text"
      },
      "cell_type": "markdown",
      "source": [
        "***mr*** mutation range\n",
        "***ub*** upper bound\n",
        "\n",
        "The upper bound is calculated so that numbers selected at random fall in an appropriate \n",
        "range of mutation ***P*** % of the time "
      ]
    },
    {
      "metadata": {
        "id": "-_0SZccnw8Ts",
        "colab_type": "code",
        "colab": {}
      },
      "cell_type": "code",
      "source": [
        "Pm = 0.1\n",
        "mr = 1.75\n",
        "\n",
        "def mut():\n",
        "  mtmt = np.empty( ( N, LOCI) )\n",
        "  ub = ( 2 * mr / Pm ) - mr\n",
        "  for i in range ( N ):\n",
        "    for j in range(LOCI):\n",
        "      m = np.random.uniform( (0 - mr), ub )\n",
        "      if ( m < mr ):\n",
        "        mtmt[i][j] = m\n",
        "      else:\n",
        "        mtmt[i][j] = 0  \n",
        " # print (mtmt)\n",
        "  return mtmt\n",
        "\n",
        "def mutation(  ):\n",
        "  global gen\n",
        "  gen = gen + mut()\n",
        " # print (mut().shape)\n",
        "  #print (gen.shape)\n",
        " # return mut() + gen\n",
        "  \n",
        "\n",
        "def mutationWithClamp(  ):\n",
        "  global gen\n",
        "#  print(gen)\n",
        "  ngen = gen + mut()\n",
        "  for rw in range( N ):\n",
        "    for cl in range( LOCI ):  \n",
        "        ngen[rw][cl] = ngen[rw][cl] if ( ngen[rw][cl] > -1 ) else -1\n",
        "        ngen[rw][cl] = ngen[rw][cl] if ( ngen[rw][cl] < 5 ) else 5\n",
        "  gen = ngen\n",
        "\n",
        "  \n",
        "mutation()\n",
        "mutationWithClamp()\n",
        "\n",
        "print( gen )\n",
        "\n"
      ],
      "execution_count": 0,
      "outputs": []
    },
    {
      "metadata": {
        "id": "QulRcTbufK7N",
        "colab_type": "code",
        "colab": {}
      },
      "cell_type": "code",
      "source": [
        "Psbt = 0.4\n",
        "\n",
        "def selectionBT(  ):\n",
        "  global gen\n",
        "  ngen = np.empty( ( N, LOCI) )\n",
        "  for i in range(N):\n",
        "    x = gen[ random.randint( 0, N - 1 ) ]\n",
        "    y = gen[ random.randint( 0, N - 1 ) ]\n",
        "    #print( x , y)\n",
        "    if( fitness( x ) > fitness( y ) ):\n",
        "      x = y\n",
        "    ngen[ i ] = x\n",
        "  gen = ngen\n",
        "\n",
        "selectionBT()\n",
        "print(gen)"
      ],
      "execution_count": 0,
      "outputs": []
    },
    {
      "metadata": {
        "id": "8ilghLZx-kVx",
        "colab_type": "code",
        "colab": {}
      },
      "cell_type": "code",
      "source": [
        "min = .5\n",
        "max = 2 - min\n",
        "Plr = lambda r:( min + ( r - 1 ) / ( N - 1 ) * ( max - min ) ) / N\n",
        "PlrMap = np.array( [ Plr(x) for x in range( 1, 11 ) ] ) \n",
        "pmap =np.empty(N)\n",
        "for i in range(N):\n",
        "  if (i == 0):\n",
        "    pmap[ i ] = PlrMap[ i ]\n",
        "  else:\n",
        "    pmap[ i ] = PlrMap[ i ] + pmap[ i - 1 ]\n",
        "\n",
        "\n",
        "def selectionLR(  ):\n",
        "  global gen\n",
        "  ngen = np.empty( (N, LOCI) )\n",
        "  temp = sortFit( gen )\n",
        "  for i in range( N ):\n",
        "    s = np.random.uniform( 0, 1 )\n",
        "    for idx,c in enumerate(pmap):\n",
        "      if( s <= c ):\n",
        "        #print(s, c , 9 - idx)\n",
        "        ngen[ i ] = temp[ 9-idx, : 3 ] \n",
        "        break\n",
        "  gen = ngen\n",
        "\n",
        "en = 2  # number of best fit guarantee propogate  \n",
        "\n",
        "def selectionEliteLR(  ):\n",
        "  global gen\n",
        "  ngen = np.empty( (N, LOCI) )\n",
        "  temp = sortFit( gen )\n",
        "  for i in range( en ):\n",
        "    ngen[ i ] = temp[ i, : 3]\n",
        "  for i in range( en, N ):\n",
        "    s = np.random.uniform( 0, 1 )\n",
        "    for idx,c in enumerate(pmap):\n",
        "      if( s <= c ):\n",
        "        #print(s, c , 9 - idx)\n",
        "        ngen[ i ] = temp[ 9-idx, : 3 ] \n",
        "        break\n",
        "  gen = ngen\n",
        "\n",
        "selectionLR()\n",
        "print(gen)\n",
        "selectionEliteLR()\n",
        "\n",
        "print( gen )"
      ],
      "execution_count": 0,
      "outputs": []
    },
    {
      "metadata": {
        "id": "6BNbEtFUfnrU",
        "colab_type": "code",
        "colab": {}
      },
      "cell_type": "code",
      "source": [
        "tn = 5 # number to keep\n",
        "\n",
        "firstRunFlag = 1\n",
        "if ( firstRunFlag ):\n",
        "  firstRunFlag = 0\n",
        "  prevgen = np.random.uniform( LCBD[ 0 ], LCBD[ 1 ], ( N, LOCI ) )\n",
        "  \n",
        "def selectionTrunc(  ):\n",
        "  global gen\n",
        "  ngen = np.empty( ( N, LOCI ) )\n",
        "  temp = sortFit( gen )\n",
        "  for i in range( tn ):\n",
        "    ngen[ i ] = temp[ i, : 3 ]\n",
        "  for i in range ( tn, N ):\n",
        "    ngen [ i ] = np.random.uniform( LCBD[ 0 ], LCBD[ 1 ], ( 1, LOCI ) )\n",
        "  gen = ngen\n",
        "\n",
        "def selectionFibTrunc(  ):\n",
        "  global gen\n",
        "  ngen = np.empty( ( N, LOCI ) )\n",
        "  global prevgen\n",
        "  temp = gen\n",
        "  union = np.append(gen, prevgen, axis = 0)\n",
        "  union = sortFit(union, n=(2 * N) )\n",
        "  prevgen = temp\n",
        "  for i in range( tn ):\n",
        "    ngen[ i ] = union[ i, : 3 ]\n",
        "  for i in range ( tn, N ):\n",
        "    ngen [ i ] = np.random.uniform( LCBD[ 0 ], LCBD[ 1 ], ( 1, LOCI ) )\n",
        "  gen = ngen\n",
        "\n",
        "selectionFibTrunc()\n",
        "print(gen)\n",
        "#print (selectionTrunc( generation ) )"
      ],
      "execution_count": 0,
      "outputs": []
    },
    {
      "metadata": {
        "id": "3EKJcutRKfuL",
        "colab_type": "code",
        "colab": {}
      },
      "cell_type": "code",
      "source": [
        "for i in range(50):\n",
        "  mutation()\n",
        "  mutationWithClamp()\n",
        "  arithmeticCrossPerLoci()\n",
        "  arithmeticCrossover()\n",
        "  arithmeticCrossPerLoci()\n",
        "  crossover()\n",
        "  selectionBT() \n",
        "  selectionTrunc() \n",
        "  selectionFibTrunc()\n",
        "  selectionLR()\n",
        "  selectionEliteLR()\n",
        "print (gen)\n",
        "\n"
      ],
      "execution_count": 0,
      "outputs": []
    },
    {
      "metadata": {
        "id": "xz_vGs2t2oTa",
        "colab_type": "code",
        "colab": {}
      },
      "cell_type": "code",
      "source": [
        "\n",
        "\n",
        "mutList = [ mutationWithClamp, mutation ]\n",
        "crossList = [ arithmeticCrossover, arithmeticCrossPerLoci, crossover ]\n",
        "selList = [ selectionBT, selectionTrunc, selectionFibTrunc, selectionLR, selectionEliteLR ]\n",
        "def evol():\n",
        "  avg = np.empty((5,3,2))\n",
        "  best = np.empty((5,3,2))\n",
        "  for i in range( 30 ):\n",
        "    for (s, sel) in enumerate(selList):\n",
        "      for c, cross in enumerate(crossList):\n",
        "        for m, mut in enumerate(mutList):\n",
        "          gen = np.random.uniform( LCBD[ 0 ], LCBD[ 1 ], ( N, LOCI ) )\n",
        "          for j in range( 50 ):\n",
        "              mut()\n",
        "              cross()\n",
        "              sel()\n",
        "            avg[s][c][m] = np.mean(fitVector(gen))\n",
        "            bst =  np.amin(fitVector(gen, N))\n",
        "            best[s][c][m] = bst if (bst < best[s][c][m] ) else best[s][c][m]\n",
        "          avg[s][c][m] /= 30\n",
        "          \n",
        "  print (avg)\n",
        "  print(best)\n",
        "\n",
        "evol()"
      ],
      "execution_count": 0,
      "outputs": []
    }
  ]
}